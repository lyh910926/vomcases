{
 "cells": [
  {
   "cell_type": "code",
   "execution_count": 1,
   "metadata": {},
   "outputs": [
    {
     "name": "stderr",
     "output_type": "stream",
     "text": [
      "/usr/lib/python3.6/importlib/_bootstrap.py:219: RuntimeWarning: numpy.dtype size changed, may indicate binary incompatibility. Expected 96, got 88\n",
      "  return f(*args, **kwds)\n"
     ]
    }
   ],
   "source": [
    "import os\n",
    "import numpy as np\n",
    "import matplotlib as mpl\n",
    "import matplotlib.pyplot as plt\n",
    "import pandas as pd\n",
    "from datetime import datetime, timedelta, date\n",
    "from matplotlib.pyplot import imread\n",
    "import matplotlib.cbook as cbook\n",
    "from netCDF4 import Dataset,num2date"
   ]
  },
  {
   "cell_type": "code",
   "execution_count": 2,
   "metadata": {},
   "outputs": [],
   "source": [
    "ks_vals = np.zeros(5)"
   ]
  },
  {
   "cell_type": "code",
   "execution_count": 3,
   "metadata": {},
   "outputs": [
    {
     "data": {
      "text/plain": [
       "array([0., 0., 0., 0., 0.])"
      ]
     },
     "execution_count": 3,
     "metadata": {},
     "output_type": "execute_result"
    }
   ],
   "source": []
  },
  {
   "cell_type": "code",
   "execution_count": 7,
   "metadata": {},
   "outputs": [],
   "source": [
    "infile = [\"../../data/SavMIP_extracted/SavMIP/CABLE/HowardSprings_CABLE.nc\",\n",
    "          \"../../data/SavMIP_extracted/SavMIP/CABLE/AdelaideRiver_CABLE.nc\",\n",
    "          \"../../data/SavMIP_extracted/SavMIP/CABLE/DalyRiverUncleared_CABLE.nc\",\n",
    "          \"../../data/SavMIP_extracted/SavMIP/CABLE/DryRiver_CABLE.nc\",\n",
    "          \"../../data/SavMIP_extracted/SavMIP/CABLE/SturtPlains_CABLE.nc\"]\n",
    "\n",
    "ks_vals = np.zeros(5)\n",
    "clay_vals = np.zeros(5)\n",
    "sand_vals = np.zeros(5)\n",
    "silt_vals = np.zeros(5)\n",
    "\n",
    "for i in range(0, len(infile)):\n",
    "\n",
    "    ncfile = Dataset(infile[i])\n",
    "\n",
    "    ks = ncfile.variables[\"hyds\"]\n",
    "    clay = ncfile.variables[\"clay\"]\n",
    "    sand = ncfile.variables[\"sand\"]\n",
    "    silt = ncfile.variables[\"silt\"]\n",
    "    \n",
    "    ks_vals[i]=np.squeeze(ks)\n",
    "    clay_vals[i]=np.squeeze(clay)\n",
    "    sand_vals[i]=np.squeeze(sand)\n",
    "    silt_vals[i]=np.squeeze(silt)\n",
    "    \n",
    "    \n",
    "    \n",
    "    "
   ]
  },
  {
   "cell_type": "code",
   "execution_count": 8,
   "metadata": {},
   "outputs": [
    {
     "name": "stdout",
     "output_type": "stream",
     "text": [
      "[6.00000021e-06 6.00000021e-06 2.49999994e-06 2.49999994e-06\n",
      " 9.99999975e-06]\n"
     ]
    }
   ],
   "source": [
    "print(ks_vals)"
   ]
  },
  {
   "cell_type": "code",
   "execution_count": 10,
   "metadata": {},
   "outputs": [],
   "source": [
    "ks_vals=np.squeeze(ks)\n",
    "clay_vals=np.squeeze(clay)\n",
    "sand_vals=np.squeeze(sand)\n",
    "silt_vals=np.squeeze(silt)"
   ]
  },
  {
   "cell_type": "code",
   "execution_count": 13,
   "metadata": {},
   "outputs": [
    {
     "data": {
      "text/plain": [
       "array(0.74, dtype=float32)"
      ]
     },
     "execution_count": 13,
     "metadata": {},
     "output_type": "execute_result"
    }
   ],
   "source": [
    "clay_vals\n",
    "silt_vals\n",
    "sand_vals"
   ]
  },
  {
   "cell_type": "code",
   "execution_count": null,
   "metadata": {},
   "outputs": [],
   "source": []
  }
 ],
 "metadata": {
  "kernelspec": {
   "display_name": "Python 3",
   "language": "python",
   "name": "python3"
  },
  "language_info": {
   "codemirror_mode": {
    "name": "ipython",
    "version": 3
   },
   "file_extension": ".py",
   "mimetype": "text/x-python",
   "name": "python",
   "nbconvert_exporter": "python",
   "pygments_lexer": "ipython3",
   "version": "3.6.9"
  },
  "toc": {
   "base_numbering": 1,
   "nav_menu": {},
   "number_sections": true,
   "sideBar": true,
   "skip_h1_title": false,
   "title_cell": "Table of Contents",
   "title_sidebar": "Contents",
   "toc_cell": false,
   "toc_position": {},
   "toc_section_display": true,
   "toc_window_display": false
  },
  "varInspector": {
   "cols": {
    "lenName": 16,
    "lenType": 16,
    "lenVar": 40
   },
   "kernels_config": {
    "python": {
     "delete_cmd_postfix": "",
     "delete_cmd_prefix": "del ",
     "library": "var_list.py",
     "varRefreshCmd": "print(var_dic_list())"
    },
    "r": {
     "delete_cmd_postfix": ") ",
     "delete_cmd_prefix": "rm(",
     "library": "var_list.r",
     "varRefreshCmd": "cat(var_dic_list()) "
    }
   },
   "types_to_exclude": [
    "module",
    "function",
    "builtin_function_or_method",
    "instance",
    "_Feature"
   ],
   "window_display": false
  }
 },
 "nbformat": 4,
 "nbformat_minor": 2
}
